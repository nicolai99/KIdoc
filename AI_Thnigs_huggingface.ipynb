{
 "cells": [
  {
   "cell_type": "code",
   "id": "initial_id",
   "metadata": {
    "collapsed": true,
    "ExecuteTime": {
     "end_time": "2025-04-02T13:40:13.201668Z",
     "start_time": "2025-04-02T13:40:10.414665Z"
    }
   },
   "source": [
    "from transformers import pipeline\n",
    "classifier = pipeline(\"zero-shot-classification\", model=\"MoritzLaurer/mDeBERTa-v3-base-mnli-xnli\")\n",
    "\n",
    "text = \"Bitte überweisen Sie den Betrag von 10€ schnellstmöglich\"\n",
    "labels = [\"Rechnung\",\"Angebot\",\"Lieferschein\",\"Bestellung\",\"Stornierung\",\"Mahnung\"]\n",
    "\n",
    "result = classifier(text, candidate_labels=labels)\n",
    "print(result)\n"
   ],
   "outputs": [
    {
     "name": "stderr",
     "output_type": "stream",
     "text": [
      "Device set to use cpu\n"
     ]
    },
    {
     "name": "stdout",
     "output_type": "stream",
     "text": [
      "{'sequence': 'Bitte überweisen Sie den Betrag von 10€ schnellstmöglich', 'labels': ['Mahnung', 'Rechnung', 'Angebot', 'Lieferschein', 'Bestellung', 'Stornierung'], 'scores': [0.28894487023353577, 0.24429522454738617, 0.21658311784267426, 0.10426884144544601, 0.08690926432609558, 0.05899861082434654]}\n"
     ]
    }
   ],
   "execution_count": 13
  },
  {
   "metadata": {},
   "cell_type": "code",
   "outputs": [],
   "execution_count": null,
   "source": "",
   "id": "3c8730809a55a300"
  }
 ],
 "metadata": {
  "kernelspec": {
   "display_name": "Python 3",
   "language": "python",
   "name": "python3"
  },
  "language_info": {
   "codemirror_mode": {
    "name": "ipython",
    "version": 2
   },
   "file_extension": ".py",
   "mimetype": "text/x-python",
   "name": "python",
   "nbconvert_exporter": "python",
   "pygments_lexer": "ipython2",
   "version": "2.7.6"
  }
 },
 "nbformat": 4,
 "nbformat_minor": 5
}
