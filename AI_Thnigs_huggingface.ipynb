{
 "cells": [
  {
   "cell_type": "code",
   "id": "initial_id",
   "metadata": {
    "collapsed": true,
    "ExecuteTime": {
     "end_time": "2025-04-09T16:08:01.808655Z",
     "start_time": "2025-04-09T16:08:01.802218Z"
    }
   },
   "source": [
    "from transformers import pipeline\n",
    "from pypdf import PdfReader"
   ],
   "outputs": [],
   "execution_count": 8
  },
  {
   "metadata": {
    "ExecuteTime": {
     "end_time": "2025-04-09T16:08:01.766721400Z",
     "start_time": "2025-04-08T11:02:33.267533Z"
    }
   },
   "cell_type": "code",
   "source": [
    "def readFromFile(file):\n",
    "    reader=PdfReader(file)\n",
    "    page0=reader.pages[0]\n",
    "    page0Text=page0.extract_text()\n",
    "    return page0Text"
   ],
   "id": "67971346abb3ceb8",
   "outputs": [],
   "execution_count": 2
  },
  {
   "metadata": {
    "ExecuteTime": {
     "end_time": "2025-04-09T16:08:01.820765500Z",
     "start_time": "2025-04-08T11:02:33.299990Z"
    }
   },
   "cell_type": "code",
   "source": [
    "qa_pipeline = pipeline(\"question-answering\", model=\"deepset/roberta-base-squad2\")\n",
    "classifier = pipeline(\"zero-shot-classification\", model=\"MoritzLaurer/mDeBERTa-v3-base-mnli-xnli\")"
   ],
   "id": "2b258a9893ffa692",
   "outputs": [
    {
     "name": "stderr",
     "output_type": "stream",
     "text": [
      "Device set to use cpu\n",
      "Device set to use cpu\n"
     ]
    }
   ],
   "execution_count": 3
  },
  {
   "metadata": {
    "ExecuteTime": {
     "end_time": "2025-04-09T16:08:01.820765500Z",
     "start_time": "2025-04-08T11:02:36.433660Z"
    }
   },
   "cell_type": "code",
   "source": [
    "def classifyInvoice():\n",
    "    context = readFromFile(\"invoice2.pdf\")\n",
    "    print(context)\n",
    "    labels=[\"invoice\",\"letter\"]\n",
    "    result = classifier(context,candidate_labels=labels)\n",
    "    print(\"classification:\",result[\"labels\"],result[\"scores\"])\n",
    "    return result"
   ],
   "id": "9991d607996e1c06",
   "outputs": [],
   "execution_count": 4
  },
  {
   "metadata": {
    "ExecuteTime": {
     "end_time": "2025-04-09T16:08:01.820765500Z",
     "start_time": "2025-04-08T11:02:36.449516Z"
    }
   },
   "cell_type": "code",
   "source": [
    "result = classifyInvoice()\n",
    "maxLabel=result[\"labels\"][0]\n",
    "print(\"maxLabel:\",maxLabel)"
   ],
   "id": "10d39be2b8abb46e",
   "outputs": [
    {
     "name": "stdout",
     "output_type": "stream",
     "text": [
      "CPB Software (Germany) GmbH - Im Bruch 3 - 63897 Miltenberg/Main\n",
      "Musterkunde AG\n",
      "Mr. John Doe\n",
      "Musterstr. 23\n",
      "12345 Musterstadt Name:  Stefanie Müller\n",
      "Phone: +49 9371 9786-0\n",
      "Invoice WMACCESS Internet\n",
      "VAT No. DE199378386\n",
      "Invoice No\n",
      "123100401\n",
      "Amount\n",
      "-without VAT- quantity\n",
      "130,00 € 1\n",
      "10,00 € 0\n",
      "50,00 € 0\n",
      "1.000,00 € 0\n",
      "10,00 € 0\n",
      "0,58 € 14\n",
      "0,70 € 0\n",
      "1,50 € 162\n",
      "0,50 € 0\n",
      "0,80 € 0\n",
      "1,80 € 0\n",
      "0,30 € 0\n",
      "0,30 € 0\n",
      "0,40 € 0\n",
      "0,40 € 0\n",
      "0,30 € 0\n",
      "0,30 € 0\n",
      "Terms of Payment: Immediate payment without discount. Any bank charges must be paid by the invoice recipient.\n",
      "Bank fees at our expense will be charged to the invoice recipient!\n",
      "Please credit the amount invoiced to IBAN DE29 1234 5678 9012 3456 78 | BIC GENODE51MIC (SEPA Credit Transfer)\n",
      "This invoice is generated automatically and will not be signed\n",
      "Transaction Fee T6 0,00 €\n",
      "130,00 €\n",
      "Basis fee for additional user accounts 0,00 €\n",
      "0,00 €\n",
      "0,00 €\n",
      "Basic Fee wmPos\n",
      "Change of user accounts\n",
      "Transaction Fee T1\n",
      "01.02.2024 - 29.02.2024\n",
      "Transaction Fee G6 0,00 €\n",
      "0,00 €\n",
      "VAT 19 % 72,41 €\n",
      "Transaction Fee G3 0,00 €\n",
      "Transaction Fee G5 0,00 €\n",
      "Transaction Fee G1 0,00 €\n",
      "Transaction Fee G4\n",
      "Transaction Fee G2\n",
      "0,00 €\n",
      "Date\n",
      "1. März 2024\n",
      "Customer No\n",
      "12345\n",
      "Invoice Period\n",
      "0,00 €\n",
      "Transaction Fee T5 0,00 €\n",
      "243,00 €\n",
      "8,12 €\n",
      "Transaction Fee T2 0,00 €\n",
      "Transaction Fee T3\n",
      "Gross Amount incl. VAT 453,53 €\n",
      "Total 381,12 €\n",
      "Service Description Total Amount\n",
      "Basic Fee wmView\n",
      "Basic Fee wmGuide\n",
      "0,00 €\n",
      "Transaction Fee T4\n",
      "\n",
      "classification: ['invoice', 'letter'] [0.7815723419189453, 0.2184276580810547]\n",
      "maxLabel: invoice\n"
     ]
    }
   ],
   "execution_count": 5
  },
  {
   "metadata": {
    "ExecuteTime": {
     "end_time": "2025-04-09T16:08:50.437238Z",
     "start_time": "2025-04-09T16:08:47.668515Z"
    }
   },
   "cell_type": "code",
   "source": [
    "interesstedAttributes=[\"tax\",\"invoice date\",\"customer Address\",\"Service\"]\n",
    "context = readFromFile(\"invoice.pdf\")\n",
    "for attribute in interesstedAttributes:\n",
    "    print(qa_pipeline(question=attribute, context=context))"
   ],
   "id": "727dfeb4ae0f5d1f",
   "outputs": [
    {
     "name": "stdout",
     "output_type": "stream",
     "text": [
      "{'score': 0.00012955472629982978, 'start': 230, 'end': 271, 'answer': '\\n123 Somewhere Street\\nYour City AZ 12345\\n'}\n",
      "{'score': 0.028209522366523743, 'start': 352, 'end': 368, 'answer': 'January 25, 2016'}\n",
      "{'score': 0.0002927619789261371, 'start': 230, 'end': 271, 'answer': '\\n123 Somewhere Street\\nYour City AZ 12345\\n'}\n",
      "{'score': 0.0003058804722968489, 'start': 415, 'end': 429, 'answer': '\\nTest Business'}\n"
     ]
    }
   ],
   "execution_count": 9
  },
  {
   "metadata": {
    "ExecuteTime": {
     "end_time": "2025-04-09T16:08:01.820765500Z",
     "start_time": "2025-04-08T11:02:45.555680Z"
    }
   },
   "cell_type": "code",
   "source": "",
   "id": "3593b815d015f3b0",
   "outputs": [],
   "execution_count": null
  }
 ],
 "metadata": {
  "kernelspec": {
   "display_name": "Python 3",
   "language": "python",
   "name": "python3"
  },
  "language_info": {
   "codemirror_mode": {
    "name": "ipython",
    "version": 2
   },
   "file_extension": ".py",
   "mimetype": "text/x-python",
   "name": "python",
   "nbconvert_exporter": "python",
   "pygments_lexer": "ipython2",
   "version": "2.7.6"
  }
 },
 "nbformat": 4,
 "nbformat_minor": 5
}
