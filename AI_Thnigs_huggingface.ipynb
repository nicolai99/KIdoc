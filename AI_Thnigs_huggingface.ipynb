{
 "cells": [
  {
   "cell_type": "code",
   "id": "initial_id",
   "metadata": {
    "collapsed": true,
    "ExecuteTime": {
     "end_time": "2025-04-07T11:44:15.773181Z",
     "start_time": "2025-04-07T11:44:15.766813Z"
    }
   },
   "source": [
    "from transformers import pipeline\n",
    "from pypdf import PdfReader"
   ],
   "outputs": [],
   "execution_count": 64
  },
  {
   "metadata": {
    "ExecuteTime": {
     "end_time": "2025-04-07T11:44:15.816452Z",
     "start_time": "2025-04-07T11:44:15.810739Z"
    }
   },
   "cell_type": "code",
   "source": [
    "def readFromFile(file):\n",
    "    reader=PdfReader(file)\n",
    "    page0=reader.pages[0]\n",
    "    page0Text=page0.extract_text()\n",
    "    return page0Text"
   ],
   "id": "67971346abb3ceb8",
   "outputs": [],
   "execution_count": 65
  },
  {
   "metadata": {
    "ExecuteTime": {
     "end_time": "2025-04-07T11:44:18.580843Z",
     "start_time": "2025-04-07T11:44:15.820614Z"
    }
   },
   "cell_type": "code",
   "source": [
    "qa_pipeline = pipeline(\"question-answering\", model=\"deepset/roberta-base-squad2\")\n",
    "classifier = pipeline(\"zero-shot-classification\", model=\"MoritzLaurer/mDeBERTa-v3-base-mnli-xnli\")"
   ],
   "id": "2b258a9893ffa692",
   "outputs": [
    {
     "name": "stderr",
     "output_type": "stream",
     "text": [
      "Device set to use cpu\n",
      "Device set to use cpu\n"
     ]
    }
   ],
   "execution_count": 66
  },
  {
   "metadata": {
    "ExecuteTime": {
     "end_time": "2025-04-07T11:56:08.816077Z",
     "start_time": "2025-04-07T11:56:08.811164Z"
    }
   },
   "cell_type": "code",
   "source": [
    "def classifyInvoice():\n",
    "    context = readFromFile(\"invoice2.pdf\")\n",
    "    print(context)\n",
    "    labels=[\"invoice\",\"letter\"]\n",
    "    result = classifier(context,candidate_labels=labels)\n",
    "    print(\"classification:\",result[\"labels\"],result[\"scores\"])\n",
    "    return result"
   ],
   "id": "9991d607996e1c06",
   "outputs": [],
   "execution_count": 88
  },
  {
   "metadata": {
    "ExecuteTime": {
     "end_time": "2025-04-07T11:56:16.857191Z",
     "start_time": "2025-04-07T11:56:14.487150Z"
    }
   },
   "cell_type": "code",
   "source": [
    "result = classifyInvoice()\n",
    "maxLabel=result[\"labels\"][0]\n",
    "print(\"maxLabel:\",maxLabel)"
   ],
   "id": "10d39be2b8abb46e",
   "outputs": [
    {
     "name": "stdout",
     "output_type": "stream",
     "text": [
      "CPB Software (Germany) GmbH - Im Bruch 3 - 63897 Miltenberg/Main\n",
      "Musterkunde AG\n",
      "Mr. John Doe\n",
      "Musterstr. 23\n",
      "12345 Musterstadt Name:  Stefanie Müller\n",
      "Phone: +49 9371 9786-0\n",
      "Invoice WMACCESS Internet\n",
      "VAT No. DE199378386\n",
      "Invoice No\n",
      "123100401\n",
      "Amount\n",
      "-without VAT- quantity\n",
      "130,00 € 1\n",
      "10,00 € 0\n",
      "50,00 € 0\n",
      "1.000,00 € 0\n",
      "10,00 € 0\n",
      "0,58 € 14\n",
      "0,70 € 0\n",
      "1,50 € 162\n",
      "0,50 € 0\n",
      "0,80 € 0\n",
      "1,80 € 0\n",
      "0,30 € 0\n",
      "0,30 € 0\n",
      "0,40 € 0\n",
      "0,40 € 0\n",
      "0,30 € 0\n",
      "0,30 € 0\n",
      "Terms of Payment: Immediate payment without discount. Any bank charges must be paid by the invoice recipient.\n",
      "Bank fees at our expense will be charged to the invoice recipient!\n",
      "Please credit the amount invoiced to IBAN DE29 1234 5678 9012 3456 78 | BIC GENODE51MIC (SEPA Credit Transfer)\n",
      "This invoice is generated automatically and will not be signed\n",
      "Transaction Fee T6 0,00 €\n",
      "130,00 €\n",
      "Basis fee for additional user accounts 0,00 €\n",
      "0,00 €\n",
      "0,00 €\n",
      "Basic Fee wmPos\n",
      "Change of user accounts\n",
      "Transaction Fee T1\n",
      "01.02.2024 - 29.02.2024\n",
      "Transaction Fee G6 0,00 €\n",
      "0,00 €\n",
      "VAT 19 % 72,41 €\n",
      "Transaction Fee G3 0,00 €\n",
      "Transaction Fee G5 0,00 €\n",
      "Transaction Fee G1 0,00 €\n",
      "Transaction Fee G4\n",
      "Transaction Fee G2\n",
      "0,00 €\n",
      "Date\n",
      "1. März 2024\n",
      "Customer No\n",
      "12345\n",
      "Invoice Period\n",
      "0,00 €\n",
      "Transaction Fee T5 0,00 €\n",
      "243,00 €\n",
      "8,12 €\n",
      "Transaction Fee T2 0,00 €\n",
      "Transaction Fee T3\n",
      "Gross Amount incl. VAT 453,53 €\n",
      "Total 381,12 €\n",
      "Service Description Total Amount\n",
      "Basic Fee wmView\n",
      "Basic Fee wmGuide\n",
      "0,00 €\n",
      "Transaction Fee T4\n",
      "\n",
      "classification: ['invoice', 'letter'] [0.7815723419189453, 0.2184276580810547]\n",
      "maxLabel: invoice\n"
     ]
    }
   ],
   "execution_count": 89
  },
  {
   "metadata": {
    "ExecuteTime": {
     "end_time": "2025-04-07T11:55:21.010879Z",
     "start_time": "2025-04-07T11:55:16.689516Z"
    }
   },
   "cell_type": "code",
   "source": [
    "interesstedAttributes=[\"tax\",\"invoice date\",\"customer Address\",\"paymentconditions\"]\n",
    "context = readFromFile(\"invoice2.pdf\")\n",
    "for attribute in interesstedAttributes:\n",
    "    print(qa_pipeline(question=attribute, context=context))"
   ],
   "id": "727dfeb4ae0f5d1f",
   "outputs": [
    {
     "name": "stdout",
     "output_type": "stream",
     "text": [
      "{'score': 0.00011977412941632792, 'start': 809, 'end': 813, 'answer': '\\n130'}\n",
      "{'score': 0.00025771569926291704, 'start': 1139, 'end': 1152, 'answer': '\\n1. März 2024'}\n",
      "{'score': 9.026681073009968e-05, 'start': 809, 'end': 813, 'answer': '\\n130'}\n",
      "{'score': 0.00017690840468276292, 'start': 451, 'end': 485, 'answer': 'Immediate payment without discount'}\n"
     ]
    }
   ],
   "execution_count": 87
  },
  {
   "metadata": {},
   "cell_type": "code",
   "outputs": [],
   "execution_count": null,
   "source": "",
   "id": "3593b815d015f3b0"
  }
 ],
 "metadata": {
  "kernelspec": {
   "display_name": "Python 3",
   "language": "python",
   "name": "python3"
  },
  "language_info": {
   "codemirror_mode": {
    "name": "ipython",
    "version": 2
   },
   "file_extension": ".py",
   "mimetype": "text/x-python",
   "name": "python",
   "nbconvert_exporter": "python",
   "pygments_lexer": "ipython2",
   "version": "2.7.6"
  }
 },
 "nbformat": 4,
 "nbformat_minor": 5
}
