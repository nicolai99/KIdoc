{
 "cells": [
  {
   "cell_type": "code",
   "id": "initial_id",
   "metadata": {
    "collapsed": true,
    "ExecuteTime": {
     "end_time": "2025-04-09T19:32:36.218090Z",
     "start_time": "2025-04-09T19:32:35.565843Z"
    }
   },
   "source": [
    "from google import genai\n",
    "\n",
    "client = genai.Client(api_key=\"\")"
   ],
   "outputs": [
    {
     "name": "stdout",
     "output_type": "stream",
     "text": [
      "AI learns patterns from data to make predictions or decisions.\n",
      "\n"
     ]
    }
   ],
   "execution_count": 10
  },
  {
   "metadata": {
    "ExecuteTime": {
     "end_time": "2025-04-09T19:43:48.819929Z",
     "start_time": "2025-04-09T19:43:47.379816Z"
    }
   },
   "cell_type": "code",
   "source": "myfile = client.files.upload(file=\"invoice.pdf\")",
   "id": "8c4cce0913ca6b80",
   "outputs": [],
   "execution_count": 20
  },
  {
   "metadata": {
    "ExecuteTime": {
     "end_time": "2025-04-09T20:03:47.580354Z",
     "start_time": "2025-04-09T20:03:45.650621Z"
    }
   },
   "cell_type": "code",
   "source": [
    "response = client.models.generate_content(\n",
    "    model=\"gemini-2.0-flash-lite\", contents=[\"Was ist das für ein Dokument\", myfile]\n",
    ")\n",
    "\n",
    "print(response.text)"
   ],
   "id": "354830c0f43d8e13",
   "outputs": [
    {
     "name": "stdout",
     "output_type": "stream",
     "text": [
      "Das ist eine Rechnung.\n"
     ]
    }
   ],
   "execution_count": 34
  },
  {
   "metadata": {
    "ExecuteTime": {
     "end_time": "2025-04-09T19:57:13.438482Z",
     "start_time": "2025-04-09T19:57:13.430354Z"
    }
   },
   "cell_type": "code",
   "source": "",
   "id": "f01d094c3b39fb1e",
   "outputs": [],
   "execution_count": 27
  }
 ],
 "metadata": {
  "kernelspec": {
   "display_name": "Python 3",
   "language": "python",
   "name": "python3"
  },
  "language_info": {
   "codemirror_mode": {
    "name": "ipython",
    "version": 2
   },
   "file_extension": ".py",
   "mimetype": "text/x-python",
   "name": "python",
   "nbconvert_exporter": "python",
   "pygments_lexer": "ipython2",
   "version": "2.7.6"
  }
 },
 "nbformat": 4,
 "nbformat_minor": 5
}
